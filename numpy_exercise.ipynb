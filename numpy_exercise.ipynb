{
  "nbformat": 4,
  "nbformat_minor": 0,
  "metadata": {
    "colab": {
      "name": "numpy_exercise.ipynb",
      "provenance": [],
      "collapsed_sections": [],
      "include_colab_link": true
    },
    "kernelspec": {
      "name": "python3",
      "display_name": "Python 3"
    }
  },
  "cells": [
    {
      "cell_type": "markdown",
      "metadata": {
        "id": "view-in-github",
        "colab_type": "text"
      },
      "source": [
        "<a href=\"https://colab.research.google.com/github/nhatguku/colab/blob/master/numpy_exercise.ipynb\" target=\"_parent\"><img src=\"https://colab.research.google.com/assets/colab-badge.svg\" alt=\"Open In Colab\"/></a>"
      ]
    },
    {
      "cell_type": "markdown",
      "metadata": {
        "id": "OqL2qtoMuNjg",
        "colab_type": "text"
      },
      "source": [
        "**NUMPY EXERCISE**"
      ]
    },
    {
      "cell_type": "markdown",
      "metadata": {
        "id": "u1uiw0epuTOA",
        "colab_type": "text"
      },
      "source": [
        "**1. Import Numpy**"
      ]
    },
    {
      "cell_type": "code",
      "metadata": {
        "id": "t3xdpquPuKG8",
        "colab_type": "code",
        "colab": {}
      },
      "source": [
        "import numpy as np"
      ],
      "execution_count": 0,
      "outputs": []
    },
    {
      "cell_type": "markdown",
      "metadata": {
        "id": "eA85IxSAubUP",
        "colab_type": "text"
      },
      "source": [
        "**2. Manually create a matrix**\n",
        "\n",
        "Create a 3-by-5 matrix and print it out to the screen"
      ]
    },
    {
      "cell_type": "code",
      "metadata": {
        "id": "Gs0bbL7FuZ6-",
        "colab_type": "code",
        "outputId": "823f8478-6d10-4516-f6bf-46fd9de6f00b",
        "colab": {
          "base_uri": "https://localhost:8080/",
          "height": 68
        }
      },
      "source": [
        "a = np.array([[1,2,3,4,10],[4,5,6,7,9],[4,6,5,3,4]]) \n",
        "a.shape = (3,5) \n",
        "print (a)"
      ],
      "execution_count": 0,
      "outputs": [
        {
          "output_type": "stream",
          "text": [
            "[[ 1  2  3  4 10]\n",
            " [ 4  5  6  7  9]\n",
            " [ 4  6  5  3  4]]\n"
          ],
          "name": "stdout"
        }
      ]
    },
    {
      "cell_type": "markdown",
      "metadata": {
        "id": "fQyJbHBUu1SY",
        "colab_type": "text"
      },
      "source": [
        "**3. Manually create a vector**\n",
        "\n",
        "Create a vector which has 10 elements and print it out to the screen"
      ]
    },
    {
      "cell_type": "code",
      "metadata": {
        "id": "cWpVwEK4vAvM",
        "colab_type": "code",
        "outputId": "0f0be07e-8961-4319-8926-75bd827e8599",
        "colab": {
          "base_uri": "https://localhost:8080/",
          "height": 34
        }
      },
      "source": [
        "vector = np.arange(1,11)\n",
        "print(vector)"
      ],
      "execution_count": 0,
      "outputs": [
        {
          "output_type": "stream",
          "text": [
            "[ 1  2  3  4  5  6  7  8  9 10]\n"
          ],
          "name": "stdout"
        }
      ]
    },
    {
      "cell_type": "markdown",
      "metadata": {
        "id": "djvBbsRuvz1J",
        "colab_type": "text"
      },
      "source": [
        "**4. Automatically create matrix**\n",
        "\n",
        "\n",
        "\n",
        "1.   Automatically create a 3-by-5 matrix which has interger values in the range of [0, 100]\n",
        "2.   Automatically create a 5-by-7 matrix which has interger values in the range of [0, 100]\n",
        "3.   Print out the above 2 matricces to the screen\n",
        "4.   Implementy matrix multiplication of the above 2 matrices and print the result to the screen (let us call this result matrixx is C)\n",
        "\n",
        "\n"
      ]
    },
    {
      "cell_type": "code",
      "metadata": {
        "id": "glYQOrmvvCtI",
        "colab_type": "code",
        "outputId": "5d793458-0027-499f-c61c-82107d05524c",
        "colab": {
          "base_uri": "https://localhost:8080/",
          "height": 68
        }
      },
      "source": [
        "n = np.random.randint(1,100,(3,5))\n",
        "print(n)"
      ],
      "execution_count": 0,
      "outputs": [
        {
          "output_type": "stream",
          "text": [
            "[[ 7 85 33 75 51]\n",
            " [29 23 39 55 39]\n",
            " [26 26 85 94 88]]\n"
          ],
          "name": "stdout"
        }
      ]
    },
    {
      "cell_type": "code",
      "metadata": {
        "id": "8JZtpPplfsij",
        "colab_type": "code",
        "outputId": "0828afd8-2905-4797-cdb8-e59c4f0ea06b",
        "colab": {
          "base_uri": "https://localhost:8080/",
          "height": 102
        }
      },
      "source": [
        "m = np.random.randint(0,100,(5,7))\n",
        "print(m)"
      ],
      "execution_count": 0,
      "outputs": [
        {
          "output_type": "stream",
          "text": [
            "[[73 77 23  9 85 40 81]\n",
            " [89 68 25 38 59  5 66]\n",
            " [16 47 74 91 62 40 94]\n",
            " [75 36 14 87 70  6 50]\n",
            " [ 9 13 95 86 68 44 97]]\n"
          ],
          "name": "stdout"
        }
      ]
    },
    {
      "cell_type": "code",
      "metadata": {
        "id": "l_jtcGiZfs3Q",
        "colab_type": "code",
        "outputId": "32f2d682-9296-4440-8b11-c93275a1bb12",
        "colab": {
          "base_uri": "https://localhost:8080/",
          "height": 68
        }
      },
      "source": [
        "c = n.dot(m)\n",
        "print(c)"
      ],
      "execution_count": 0,
      "outputs": [
        {
          "output_type": "stream",
          "text": [
            "[[14688 11233 10623 17207 16374  4719 17976]\n",
            " [ 9264  8117  8603 12823 12742  4881 14066]\n",
            " [13414 12293 17214 24703 21578  9006 25048]]\n"
          ],
          "name": "stdout"
        }
      ]
    },
    {
      "cell_type": "markdown",
      "metadata": {
        "id": "ZfugKrn7woVg",
        "colab_type": "text"
      },
      "source": [
        "**5. Scalar multiplication**\n",
        "\n",
        "Input a number fromm keyboard and multiply this number with the above matrix C and print the result to the screen"
      ]
    },
    {
      "cell_type": "code",
      "metadata": {
        "id": "jj2Mhfiownrx",
        "colab_type": "code",
        "outputId": "bcb25b95-4107-4519-f689-413a600d794e",
        "colab": {
          "base_uri": "https://localhost:8080/",
          "height": 34
        }
      },
      "source": [
        "n = int(input(\"Random number from keyboard =\"))"
      ],
      "execution_count": 0,
      "outputs": [
        {
          "output_type": "stream",
          "text": [
            "Random number from keyboard =4\n"
          ],
          "name": "stdout"
        }
      ]
    },
    {
      "cell_type": "code",
      "metadata": {
        "id": "1o-ElWwTkVTC",
        "colab_type": "code",
        "outputId": "bbcd0019-9d4f-4de4-aa70-777b04b400d9",
        "colab": {
          "base_uri": "https://localhost:8080/",
          "height": 68
        }
      },
      "source": [
        "d = n*c\n",
        "print(d)"
      ],
      "execution_count": 0,
      "outputs": [
        {
          "output_type": "stream",
          "text": [
            "[[ 58752  44932  42492  68828  65496  18876  71904]\n",
            " [ 37056  32468  34412  51292  50968  19524  56264]\n",
            " [ 53656  49172  68856  98812  86312  36024 100192]]\n"
          ],
          "name": "stdout"
        }
      ]
    },
    {
      "cell_type": "markdown",
      "metadata": {
        "id": "Wo4C0TufxEuo",
        "colab_type": "text"
      },
      "source": [
        "**6. Automatically create vector**\n",
        "\n",
        "Automattically create a vector at size of 7-by-1 which has values in the range of [-10, 30]. And multiply the C matrix with this vector. Print the result to the screen."
      ]
    },
    {
      "cell_type": "code",
      "metadata": {
        "id": "hJX6N94cxD1f",
        "colab_type": "code",
        "outputId": "1ba9f22c-6135-41e8-b874-1513b00af61c",
        "colab": {
          "base_uri": "https://localhost:8080/",
          "height": 136
        }
      },
      "source": [
        "e = np.random.randint(-10,30,(7,1))\n",
        "print(e)"
      ],
      "execution_count": 0,
      "outputs": [
        {
          "output_type": "stream",
          "text": [
            "[[13]\n",
            " [17]\n",
            " [ 1]\n",
            " [ 1]\n",
            " [15]\n",
            " [ 6]\n",
            " [11]]\n"
          ],
          "name": "stdout"
        }
      ]
    },
    {
      "cell_type": "code",
      "metadata": {
        "id": "AmZ468qomBpT",
        "colab_type": "code",
        "outputId": "57ec33a1-f495-4e9d-a78c-50fa1a373f40",
        "colab": {
          "base_uri": "https://localhost:8080/",
          "height": 68
        }
      },
      "source": [
        "q = c.dot(e)\n",
        "print(q)"
      ],
      "execution_count": 0,
      "outputs": [
        {
          "output_type": "stream",
          "text": [
            "[[ 881395]\n",
            " [ 654989]\n",
            " [1078514]]\n"
          ],
          "name": "stdout"
        }
      ]
    },
    {
      "cell_type": "markdown",
      "metadata": {
        "id": "WMTN3Bmlxn7p",
        "colab_type": "text"
      },
      "source": [
        "**7. Matrix slicing**\n",
        "\n",
        "\n",
        "\n",
        "1.   Automatically create a matrix at size of 7-by-15\n",
        "2.   Print out the first column of this matrix \n",
        "3.   Print out the third row of this matrix\n",
        "4.   Print out the element at the second column and fourth row\n",
        "\n"
      ]
    },
    {
      "cell_type": "code",
      "metadata": {
        "id": "bUfAGb8Zxijx",
        "colab_type": "code",
        "outputId": "4cf44a85-32e8-4f61-c723-3fafefa1f74c",
        "colab": {
          "base_uri": "https://localhost:8080/",
          "height": 136
        }
      },
      "source": [
        "e = np.random.randint(0,30,size=(7,15))\n",
        "e"
      ],
      "execution_count": 0,
      "outputs": [
        {
          "output_type": "execute_result",
          "data": {
            "text/plain": [
              "array([[ 1,  0, 15,  5, 23, 24, 29, 28, 17, 28, 11, 22, 17,  9,  0],\n",
              "       [26, 22, 19, 19, 22, 13, 25, 11, 23,  1, 10,  0, 18, 29,  8],\n",
              "       [ 9,  5, 16, 12, 16, 27,  6, 13,  6, 13,  7,  9,  5, 19, 14],\n",
              "       [28, 11, 29, 10, 11,  4,  5,  5, 25, 22, 11, 27, 24, 21, 26],\n",
              "       [25, 21, 21, 21,  3, 22,  2, 21, 13,  6, 15,  7, 28, 15, 21],\n",
              "       [16, 10, 27,  5, 19, 23, 23, 24, 28, 11, 28, 27, 11,  1,  3],\n",
              "       [13, 17, 25, 20, 29, 29, 25, 18, 21, 22, 12,  5, 27, 20, 27]])"
            ]
          },
          "metadata": {
            "tags": []
          },
          "execution_count": 12
        }
      ]
    },
    {
      "cell_type": "code",
      "metadata": {
        "id": "daWPcl2AiOF5",
        "colab_type": "code",
        "outputId": "df0b3846-092e-43fa-9f17-2fd500abd6f3",
        "colab": {
          "base_uri": "https://localhost:8080/",
          "height": 136
        }
      },
      "source": [
        "e[:,[0]]"
      ],
      "execution_count": 0,
      "outputs": [
        {
          "output_type": "execute_result",
          "data": {
            "text/plain": [
              "array([[ 1],\n",
              "       [26],\n",
              "       [ 9],\n",
              "       [28],\n",
              "       [25],\n",
              "       [16],\n",
              "       [13]])"
            ]
          },
          "metadata": {
            "tags": []
          },
          "execution_count": 13
        }
      ]
    },
    {
      "cell_type": "code",
      "metadata": {
        "id": "-iTBkOa6iW4C",
        "colab_type": "code",
        "outputId": "e5db414b-56bf-4855-a047-f8fd3f4f7ff5",
        "colab": {
          "base_uri": "https://localhost:8080/",
          "height": 34
        }
      },
      "source": [
        "e[2:3]"
      ],
      "execution_count": 0,
      "outputs": [
        {
          "output_type": "execute_result",
          "data": {
            "text/plain": [
              "array([[ 9,  5, 16, 12, 16, 27,  6, 13,  6, 13,  7,  9,  5, 19, 14]])"
            ]
          },
          "metadata": {
            "tags": []
          },
          "execution_count": 14
        }
      ]
    },
    {
      "cell_type": "code",
      "metadata": {
        "id": "5U3b4jeZiO05",
        "colab_type": "code",
        "outputId": "11aee43d-27cb-4d15-9939-9766a071bbdf",
        "colab": {
          "base_uri": "https://localhost:8080/",
          "height": 34
        }
      },
      "source": [
        "e[1,3]"
      ],
      "execution_count": 0,
      "outputs": [
        {
          "output_type": "execute_result",
          "data": {
            "text/plain": [
              "19"
            ]
          },
          "metadata": {
            "tags": []
          },
          "execution_count": 15
        }
      ]
    },
    {
      "cell_type": "markdown",
      "metadata": {
        "id": "lPTe2UOsyO1x",
        "colab_type": "text"
      },
      "source": [
        "**8. Matrix transposition**\n",
        "\n",
        "Perform the matrix transposition of the matrix in question 7 and print out to the screen."
      ]
    },
    {
      "cell_type": "code",
      "metadata": {
        "id": "4vz_r5ebyLAR",
        "colab_type": "code",
        "outputId": "64809d22-a031-4af4-8a86-0e36301ca34b",
        "colab": {
          "base_uri": "https://localhost:8080/",
          "height": 272
        }
      },
      "source": [
        "e = np.random.randint(0,30,size=(7,15))\n",
        "e.transpose()"
      ],
      "execution_count": 0,
      "outputs": [
        {
          "output_type": "execute_result",
          "data": {
            "text/plain": [
              "array([[21, 29, 12, 28,  3, 28,  3],\n",
              "       [27,  4,  2, 12,  9, 11, 18],\n",
              "       [19, 22, 16,  5,  0, 19,  1],\n",
              "       [27, 23, 14,  1, 14,  6,  5],\n",
              "       [27, 28, 15, 20,  4, 25, 23],\n",
              "       [19, 21,  6, 16, 10, 14,  0],\n",
              "       [18, 24, 20, 25, 17, 19,  4],\n",
              "       [ 8, 24,  3, 14, 10, 12, 16],\n",
              "       [ 8, 19, 23, 25, 23, 18, 18],\n",
              "       [14, 10, 25,  2,  4, 16, 20],\n",
              "       [ 7,  9, 18, 12, 19, 21, 10],\n",
              "       [23,  2,  9,  3, 23, 27, 26],\n",
              "       [ 2, 14, 27, 11, 28, 13, 13],\n",
              "       [22, 18, 25,  2,  4, 23, 18],\n",
              "       [24,  8, 22, 16, 29,  6, 14]])"
            ]
          },
          "metadata": {
            "tags": []
          },
          "execution_count": 16
        }
      ]
    },
    {
      "cell_type": "markdown",
      "metadata": {
        "id": "wrmGswxeypvy",
        "colab_type": "text"
      },
      "source": [
        "**9. Matrix addition**\n",
        "\n",
        "\n",
        "\n",
        "1.   Automatically create 2 integer matrices whicch have values in the range of [-10, 30]\n",
        "2.   Print them to the screen\n",
        "3.   Perform matrix addition of the above 2 matrices and print the result to the screen. \n",
        "\n"
      ]
    },
    {
      "cell_type": "code",
      "metadata": {
        "id": "v5VflDc0yhn4",
        "colab_type": "code",
        "outputId": "05f8132b-516e-4f4a-e262-1120a498b15f",
        "colab": {
          "base_uri": "https://localhost:8080/",
          "height": 119
        }
      },
      "source": [
        "f = np.random.randint(-10,30,size=(3,5))\n",
        "g = np.random.randint(-10,30,size=(3,5))\n",
        "print(f)\n",
        "print(g)"
      ],
      "execution_count": 0,
      "outputs": [
        {
          "output_type": "stream",
          "text": [
            "[[19 25 22 19 -6]\n",
            " [ 5 23  3  4 -6]\n",
            " [15 -7 28 27 22]]\n",
            "[[ 25 -10  28   7   3]\n",
            " [ -9  19  -2  20   3]\n",
            " [ 27  15  12   9   2]]\n"
          ],
          "name": "stdout"
        }
      ]
    },
    {
      "cell_type": "code",
      "metadata": {
        "id": "FsMpGeq-zhfo",
        "colab_type": "code",
        "outputId": "378143e4-77b6-4b1a-da34-e48278dbfcb8",
        "colab": {
          "base_uri": "https://localhost:8080/",
          "height": 68
        }
      },
      "source": [
        "np.add(f,g)"
      ],
      "execution_count": 0,
      "outputs": [
        {
          "output_type": "execute_result",
          "data": {
            "text/plain": [
              "array([[44, 15, 50, 26, -3],\n",
              "       [-4, 42,  1, 24, -3],\n",
              "       [42,  8, 40, 36, 24]])"
            ]
          },
          "metadata": {
            "tags": []
          },
          "execution_count": 18
        }
      ]
    }
  ]
}